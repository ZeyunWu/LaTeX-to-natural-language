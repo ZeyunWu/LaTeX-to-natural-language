{
 "cells": [
  {
   "cell_type": "code",
   "execution_count": 46,
   "id": "5be4aa91",
   "metadata": {},
   "outputs": [],
   "source": [
    "import numpy as np\n",
    "import itertools\n",
    "from enum import Enum"
   ]
  },
  {
   "cell_type": "markdown",
   "id": "38ef21e4",
   "metadata": {},
   "source": [
    "### Define Latex Tokens"
   ]
  },
  {
   "cell_type": "code",
   "execution_count": 47,
   "id": "5b8d6ef8",
   "metadata": {},
   "outputs": [],
   "source": [
    "# give all tokens in latex expressions\n",
    "# tokens for natural expression would be words\n",
    "latex_token = ['{', '}', '\\\\', '-', '+', '^', '_', '(', ')', ',', ' ',\n",
    "               'frac', 'times', 'ne', 'ge', 'le', \n",
    "               'int', 'lim', 'frac', 'd', 'to', 'h',\n",
    "               '0', '1', '2', '3', '4', '5', '6', '7', '8', '9', \n",
    "               'x', 'y', 'z']\n",
    "\n",
    "# write\n",
    "with open('./data/latex_token.txt', 'w') as f:\n",
    "    for token in latex_token:\n",
    "        f.write(token + ';')"
   ]
  },
  {
   "cell_type": "markdown",
   "id": "eb28bf15",
   "metadata": {},
   "source": [
    "### Generate"
   ]
  },
  {
   "cell_type": "code",
   "execution_count": 48,
   "id": "be720775",
   "metadata": {},
   "outputs": [],
   "source": [
    "class ParamType(Enum):\n",
    "    ALL = 0\n",
    "    VAR = 1\n",
    "    CONST = 2"
   ]
  },
  {
   "cell_type": "code",
   "execution_count": 49,
   "id": "f6e77220",
   "metadata": {},
   "outputs": [],
   "source": [
    "# format: (latex expression, number of parameters, natural expression, parameter type - optional)\n",
    "BASE_RULES = [\n",
    "    ([\"{0}-{1}\"], 2, [\"{0} minus {1}\", \"subtract {1} from {0}\"]),\n",
    "    ([\"{}^{}\"], 2, [\"{} to the {}\", \"{} to the power of {}\"]),\n",
    "    ([\"{}^2\"], 1, [\"{} squared\", \"{} to the power of two\"]),\n",
    "    ([\"\\\\frac{{{}}}{{{}}}\"], 2, [\"{} over {}\", \"{} divided by {}\"]),\n",
    "    ([\"{}+{}\"], 2, [\"{} plus {}\", \"add {} to {}\"]),\n",
    "    ([\"{} \\\\times {}\"], 2, [\"{} times {}\", \"{} multiplied by {}\", \"product of {} and {}\"]), \n",
    "    ([\"{} \\\\ne {}\"], 2, [\"{} is not equal to {}\"]), \n",
    "    ([\"{} \\\\ge {}\"], 2, [\"{} is greater or equal to {}\"]),\n",
    "    ([\"{} \\\\le {}\"], 2, [\"{} is less or equal to {}\"])\n",
    "]"
   ]
  },
  {
   "cell_type": "code",
   "execution_count": 50,
   "id": "1ab56e8f",
   "metadata": {},
   "outputs": [],
   "source": [
    "# format: (latex expression, number of parameters, natural expression, parameter type - optional)\n",
    "COMPLEX_RULES = [\n",
    "    ([\"\\\\int_{{{0}}}^{{{1}}} h({2}) \\\\,d{3}\"], 4, [\"integral of h ( {2} ) from {0} to {1} with respect to {3}\"], \n",
    "     [ParamType.CONST, ParamType.CONST, ParamType.VAR, ParamType.VAR]),\n",
    "    \n",
    "    ([\"\\\\lim_{{{0} \\\\to {1}}} h({2})\"], 3, [\"limit of h ( {2} ) as {0} goes to {1}\"], \n",
    "     [ParamType.VAR, ParamType.CONST, ParamType.VAR]),\n",
    "    \n",
    "    ([\"\\\\frac{{dh({0})}}{{d{1}}}\"], 2, [\"derivative of h ( {0} ) with respect to {1}\"], \n",
    "     [ParamType.VAR, ParamType.VAR]),\n",
    "]"
   ]
  },
  {
   "cell_type": "code",
   "execution_count": 51,
   "id": "b125054f",
   "metadata": {},
   "outputs": [],
   "source": [
    "TEX_DIGITS = np.arange(10)\n",
    "NAT_DIGITS = [\"zero\", \"one\", \"two\", \"three\", \"four\", \"five\", \"six\", \"seven\", \"eight\", \"nine\"]\n",
    "VARS = [\"x\", \"y\", \"z\"]\n",
    "\n",
    "DIGITS = list(zip(TEX_DIGITS, NAT_DIGITS))\n",
    "VARS = list(zip(VARS, VARS))\n",
    "\n",
    "ATOMS_PER_TYPE = {\n",
    "    ParamType.ALL: DIGITS + VARS,\n",
    "    ParamType.VAR: VARS,\n",
    "    ParamType.CONST: DIGITS\n",
    "}\n",
    "\n",
    "\n",
    "def generate_examples(texs, num_params, naturals, param_types=[]):\n",
    "    \n",
    "    if not param_types: param_types = [ParamType.ALL] * num_params\n",
    "    atoms_per_params = [ATOMS_PER_TYPE[typ] for typ in param_types]\n",
    "    \n",
    "    results = []\n",
    "    \n",
    "    for params in itertools.product(*(atoms_per_params)):\n",
    "        tex_params, nat_params = zip(*params)\n",
    "        \n",
    "        tex_result = [entry.format(*tex_params) for entry in texs]\n",
    "        natural_results = [entry.format(*nat_params) for entry in naturals]\n",
    "        results += list(itertools.product(tex_result, natural_results))\n",
    "    \n",
    "    return results"
   ]
  },
  {
   "cell_type": "code",
   "execution_count": 52,
   "id": "e4bb93cd",
   "metadata": {},
   "outputs": [],
   "source": [
    "# generate base expression pairs\n",
    "base_examples = [example for rule in BASE_RULES for example in generate_examples(*rule)]"
   ]
  },
  {
   "cell_type": "code",
   "execution_count": 53,
   "id": "e7ba6e4e",
   "metadata": {},
   "outputs": [],
   "source": [
    "# generate complex expression pairs\n",
    "complex_examples = [example for rule in COMPLEX_RULES for example in generate_examples(*rule)]"
   ]
  },
  {
   "cell_type": "code",
   "execution_count": 54,
   "id": "0f8bdcd9",
   "metadata": {},
   "outputs": [],
   "source": [
    "# give some nested expression pairs\n",
    "# not automatic for now\n",
    "nested_examples = [\n",
    "    (\"x^2 \\\\le x+5\", \"x to the two is less or equal to x plus five\"), \n",
    "    (\"\\\\frac{x+1}{x} \\\\ne 1\", \"x plus one over x is not equal to one\"), \n",
    "]"
   ]
  },
  {
   "cell_type": "markdown",
   "id": "d338201c",
   "metadata": {},
   "source": [
    "### Write\n",
    "- each pair is separated by `;` since `,` is a token in latex expression"
   ]
  },
  {
   "cell_type": "code",
   "execution_count": 55,
   "id": "6a570808",
   "metadata": {
    "scrolled": true
   },
   "outputs": [],
   "source": [
    "# write base expression pairs\n",
    "with open('./data/base_expression.txt', 'w') as f:\n",
    "    f.write('latex;natural language\\n')\n",
    "    \n",
    "    for pair in base_examples:\n",
    "        f.write(pair[0] + ';' + pair[1] + '\\n')"
   ]
  },
  {
   "cell_type": "code",
   "execution_count": 56,
   "id": "f933938c",
   "metadata": {},
   "outputs": [],
   "source": [
    "# write complicate expression\n",
    "with open('./data/complex_expression.txt', 'w') as f:\n",
    "    f.write('latex;natural language\\n')\n",
    "    \n",
    "    for pair in complex_examples:\n",
    "        f.write(pair[0] + ';' + pair[1] + '\\n')"
   ]
  },
  {
   "cell_type": "code",
   "execution_count": 57,
   "id": "a331d26f",
   "metadata": {},
   "outputs": [],
   "source": [
    "# write nested expression\n",
    "with open('./data/nested_expression.txt', 'w') as f:\n",
    "    f.write('latex;natural language\\n')\n",
    "    \n",
    "    for pair in nested_examples:\n",
    "        f.write(pair[0] + ';' + pair[1] + '\\n')"
   ]
  }
 ],
 "metadata": {
  "kernelspec": {
   "display_name": "Python 3 (ipykernel)",
   "language": "python",
   "name": "python3"
  },
  "language_info": {
   "codemirror_mode": {
    "name": "ipython",
    "version": 3
   },
   "file_extension": ".py",
   "mimetype": "text/x-python",
   "name": "python",
   "nbconvert_exporter": "python",
   "pygments_lexer": "ipython3",
   "version": "3.9.0"
  }
 },
 "nbformat": 4,
 "nbformat_minor": 5
}
