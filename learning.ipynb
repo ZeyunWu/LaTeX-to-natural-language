{
 "cells": [
  {
   "cell_type": "code",
   "execution_count": 1,
   "id": "c7139f45",
   "metadata": {},
   "outputs": [],
   "source": [
    "import unicodedata\n",
    "import string\n",
    "import re\n",
    "import random"
   ]
  },
  {
   "cell_type": "code",
   "execution_count": 2,
   "id": "cbccd72f",
   "metadata": {},
   "outputs": [],
   "source": [
    "import torch\n",
    "import torch.nn as nn\n",
    "from torch import optim\n",
    "import torch.nn.functional as F\n",
    "\n",
    "device = torch.device(\"cuda\" if torch.cuda.is_available() else \"cpu\")\n",
    "\n",
    "import matplotlib.pyplot as plt\n",
    "%matplotlib inline\n",
    "\n",
    "from PIL import Image\n",
    "from wordcloud import WordCloud, STOPWORDS, ImageColorGenerator"
   ]
  },
  {
   "cell_type": "markdown",
   "id": "6dcd94bf",
   "metadata": {},
   "source": [
    "## Load Generated Data\n",
    "- load base, complex, and nested expression pairs\n",
    "- shuffle base and complex expression pairs\n",
    "- split into train and test sets"
   ]
  },
  {
   "cell_type": "code",
   "execution_count": 3,
   "id": "a1922f69",
   "metadata": {},
   "outputs": [],
   "source": [
    "# read all base expression pairs\n",
    "base_expression = []\n",
    "\n",
    "with open('./data/base_expression.txt', 'r') as f:\n",
    "    lines = f.readlines()\n",
    "    \n",
    "for l in lines[1:]: # skip first line\n",
    "    pair = l.split(';')\n",
    "    base_expression.append([pair[0], pair[1][:-1]]) # exclude \\n"
   ]
  },
  {
   "cell_type": "code",
   "execution_count": 4,
   "id": "ec3cca46",
   "metadata": {},
   "outputs": [],
   "source": [
    "# read all complicate expression pairs\n",
    "complex_expression = []\n",
    "\n",
    "with open('./data/complex_expression.txt', 'r') as f:\n",
    "    lines = f.readlines()\n",
    "    \n",
    "for l in lines[1:]: # skip first line\n",
    "    pair = l.split(';')\n",
    "    complex_expression.append([pair[0], pair[1][:-1]])"
   ]
  },
  {
   "cell_type": "code",
   "execution_count": 5,
   "id": "c7d2ad81",
   "metadata": {},
   "outputs": [],
   "source": [
    "# read all nested expression pairs\n",
    "# these expressions would be for testing only\n",
    "nested_expression = []\n",
    "\n",
    "with open('./data/nested_expression.txt', 'r') as f:\n",
    "    lines = f.readlines()\n",
    "    \n",
    "for l in lines[1:]:\n",
    "    pair = l.split(';')\n",
    "    nested_expression.append([pair[0], pair[1][:-1]])"
   ]
  },
  {
   "cell_type": "code",
   "execution_count": 6,
   "id": "16590951",
   "metadata": {},
   "outputs": [],
   "source": [
    "# shuffle\n",
    "random.shuffle(base_expression)\n",
    "random.shuffle(complex_expression)\n",
    "\n",
    "\n",
    "# train-test split\n",
    "train_ratio = 0.8\n",
    "n_base = len(base_expression)\n",
    "n_comp = len(complex_expression)\n",
    "\n",
    "train_expression = base_expression[:int(0.8*n_base)] + complex_expression[:int(0.8*n_comp)]\n",
    "test_expression = base_expression[int(0.8*n_base):] + complex_expression[int(0.8*n_comp):]\n",
    "random.shuffle(train_expression)"
   ]
  },
  {
   "cell_type": "markdown",
   "id": "d0545cf7",
   "metadata": {},
   "source": [
    "## Processing\n",
    " - convert expressions into vector representation via tokenizer for latex/natural expressions respectively\n",
    " - convert vector representation into proper tensors\n",
    " - collect token/word counts\n",
    " - generate token/word cloud plot"
   ]
  },
  {
   "cell_type": "code",
   "execution_count": 7,
   "id": "d326522d",
   "metadata": {},
   "outputs": [],
   "source": [
    "# define tokenizer for latex expression\n",
    "\n",
    "# read defined latex tokens\n",
    "with open('./data/latex_token.txt', 'r') as f:\n",
    "    latex_token = f.readline().split(';')\n",
    "\n",
    "# drop the last null token\n",
    "latex_token = latex_token[:-1]\n",
    "    \n",
    "    \n",
    "class latex_tokenizer:\n",
    "    SOS = 0 # start of string\n",
    "    EOS = 1 # end of string\n",
    "    \n",
    "    def __init__(self):\n",
    "        self.n_token = 2\n",
    "        self.token2index = {'SOS': self.SOS, 'EOS': self.EOS}\n",
    "        self.index2token = {self.SOS: 'SOS', self.EOS: 'EOS'}\n",
    "        self.token_count = {} # not counting SOS/EOS\n",
    "        \n",
    "        # initialize the two dictionaries\n",
    "        for token in latex_token:\n",
    "            self.token2index[token] = self.n_token\n",
    "            self.index2token[self.n_token] = token\n",
    "            self.token_count[token] = 0\n",
    "            self.n_token += 1\n",
    "            \n",
    "    \n",
    "    \n",
    "    # convert input expression to index representation using the tokenizer\n",
    "    def tokenize(self, expression):\n",
    "        '''\n",
    "        expression: must be a string\n",
    "        '''\n",
    "        \n",
    "        result = [self.token2index['SOS']]\n",
    "        buffer = ''\n",
    "        \n",
    "        for c in expression:\n",
    "            \n",
    "            if buffer not in self.token2index:\n",
    "                buffer += c\n",
    "            \n",
    "            # updated buffer: need to check it again\n",
    "            if buffer in self.token2index:\n",
    "                result.append(self.token2index[buffer])\n",
    "                self.token_count[buffer] += 1\n",
    "                buffer = ''\n",
    "        \n",
    "        # if buffer is non-empty, there is error\n",
    "        if buffer != '':\n",
    "            return -1\n",
    "        \n",
    "        result.append(self.token2index['EOS'])\n",
    "        return result\n",
    "    \n",
    "    \n",
    "    \n",
    "    # convert input tokens back to latex expression\n",
    "    # ignore SOS/EOS\n",
    "    def detokenize(self, indices):\n",
    "        '''\n",
    "        indices: list of indices\n",
    "        '''\n",
    "        string = ''\n",
    "        \n",
    "        for i in indices:\n",
    "            token = self.index2token[i]\n",
    "            if token != 'SOS' and token != 'EOS':\n",
    "                string = string + token\n",
    "        \n",
    "        return string  "
   ]
  },
  {
   "cell_type": "code",
   "execution_count": 8,
   "id": "1a373de3",
   "metadata": {},
   "outputs": [],
   "source": [
    "# token for natural expression would just be word\n",
    "class natural_vectorizer:\n",
    "    SOS = 0 # start of string\n",
    "    EOS = 1 # end of string\n",
    "    \n",
    "    def __init__(self):\n",
    "        self.n_word = 2\n",
    "        self.word2index = {'SOS': self.SOS, 'EOS': self.EOS}\n",
    "        self.index2word = {self.SOS: 'SOS', self.EOS: 'EOS'}\n",
    "        self.word_count = {} # not counting SOS/EOS\n",
    "        \n",
    "        \n",
    "    \n",
    "    def vectorize(self, expression):\n",
    "        result = [self.word2index['SOS']]\n",
    "        buffer = ''\n",
    "        \n",
    "        words = expression.split(' ')\n",
    "        \n",
    "        for w in words:\n",
    "            if w not in self.word2index:\n",
    "                # add new word\n",
    "                self.word2index[w] = self.n_word\n",
    "                self.index2word[self.n_word] = w\n",
    "                self.word_count[w] = 1\n",
    "                self.n_word += 1\n",
    "                \n",
    "                # append result\n",
    "                result.append(self.word2index[w])\n",
    "                \n",
    "            else:\n",
    "                self.word_count[w] += 1\n",
    "                result.append(self.word2index[w])\n",
    "        \n",
    "        result.append(self.word2index['EOS'])\n",
    "        return result\n",
    "    \n",
    "    def devectorize(self, vec):\n",
    "        string = ''\n",
    "        \n",
    "        for v in vec:\n",
    "            word = self.index2word[v]\n",
    "            if word != 'SOS' and word != 'EOS':\n",
    "                string = string + word\n",
    "                \n",
    "        return string"
   ]
  },
  {
   "cell_type": "code",
   "execution_count": 9,
   "id": "445a5fa9",
   "metadata": {},
   "outputs": [],
   "source": [
    "# convert train/test/nested expressions into index vector representations (each is a torch.tensor)\n",
    "lt = latex_tokenizer()\n",
    "nv = natural_vectorizer()\n",
    "\n",
    "def expression2vec(expression):\n",
    "    vec = []\n",
    "    \n",
    "    for pair in expression:\n",
    "        v_pair = []\n",
    "        v_pair.append(torch.tensor(lt.tokenize(pair[0])).reshape(-1,1))\n",
    "        v_pair.append(torch.tensor(nv.vectorize(pair[1])).reshape(-1,1))\n",
    "\n",
    "        vec.append(v_pair)\n",
    "    \n",
    "    return vec\n",
    "\n",
    "train_vec = expression2vec(train_expression)\n",
    "test_vec = expression2vec(test_expression)\n",
    "nested_vec = expression2vec(nested_expression)"
   ]
  },
  {
   "cell_type": "code",
   "execution_count": 10,
   "id": "b2a27657",
   "metadata": {},
   "outputs": [],
   "source": [
    "# check if there is anything wrong\n",
    "\n",
    "MAX_LENGTH = 0\n",
    "\n",
    "for i in range(len(train_vec)):\n",
    "    if sum(train_vec[i][0]) == -1:\n",
    "        print('latex tokenize fails, original expression', train_expression[i][0])\n",
    "    \n",
    "    if len(train_vec[i][0]) > MAX_LENGTH:\n",
    "        MAX_LENGTH = len(train_vec[i][0])\n",
    "    \n",
    "    if len(train_vec[i][1]) > MAX_LENGTH:\n",
    "        MAX_LENGTH = len(train_vec[i][1])\n",
    "    \n",
    "    \n",
    "    \n",
    "for i in range(len(test_vec)):\n",
    "    if sum(test_vec[i][0]) == -1:\n",
    "        print('latex tokenize fails, original expression', test_expression[i][0])\n",
    "        \n",
    "    if len(test_vec[i][0]) > MAX_LENGTH:\n",
    "        MAX_LENGTH = len(test_vec[i][0])\n",
    "    \n",
    "    if len(test_vec[i][1]) > MAX_LENGTH:\n",
    "        MAX_LENGTH = len(test_vec[i][1])"
   ]
  },
  {
   "cell_type": "code",
   "execution_count": 206,
   "id": "10b138c3",
   "metadata": {},
   "outputs": [
    {
     "name": "stdout",
     "output_type": "stream",
     "text": [
      "22\n"
     ]
    }
   ],
   "source": [
    "print(MAX_LENGTH)"
   ]
  },
  {
   "cell_type": "code",
   "execution_count": 12,
   "id": "306990b3",
   "metadata": {},
   "outputs": [
    {
     "data": {
      "text/plain": [
       "(-0.5, 399.5, 199.5, -0.5)"
      ]
     },
     "execution_count": 12,
     "metadata": {},
     "output_type": "execute_result"
    },
    {
     "data": {
      "image/png": "[encoded data removed]",
      "text/plain": [
       "<Figure size 432x288 with 1 Axes>"
      ]
     },
     "metadata": {
      "needs_background": "light"
     },
     "output_type": "display_data"
    }
   ],
   "source": [
    "# token/word cloud plot\n",
    "wc = WordCloud(background_color=\"white\", max_words=1000)\n",
    "wc.generate_from_frequencies(lt.token_count)\n",
    "plt.imshow(wc, interpolation=\"bilinear\")\n",
    "plt.axis(\"off\")"
   ]
  },
  {
   "cell_type": "code",
   "execution_count": 13,
   "id": "0bf818d9",
   "metadata": {},
   "outputs": [
    {
     "data": {
      "text/plain": [
       "(-0.5, 399.5, 199.5, -0.5)"
      ]
     },
     "execution_count": 13,
     "metadata": {},
     "output_type": "execute_result"
    },
    {
     "data": {
      "image/png": "[encoded data removed]",
      "text/plain": [
       "<Figure size 432x288 with 1 Axes>"
      ]
     },
     "metadata": {
      "needs_background": "light"
     },
     "output_type": "display_data"
    }
   ],
   "source": [
    "wc = WordCloud(background_color=\"white\", max_words=1000)\n",
    "wc.generate_from_frequencies(nv.word_count)\n",
    "plt.imshow(wc, interpolation=\"bilinear\")\n",
    "plt.axis(\"off\")"
   ]
  },
  {
   "cell_type": "markdown",
   "id": "3fb50d27",
   "metadata": {},
   "source": [
    "## Encoder Decoder\n",
    "- modified from https://pytorch.org/tutorials/intermediate/seq2seq_translation_tutorial.html"
   ]
  },
  {
   "cell_type": "code",
   "execution_count": 20,
   "id": "19af801a",
   "metadata": {
    "scrolled": true
   },
   "outputs": [],
   "source": [
    "from network import *"
   ]
  },
  {
   "cell_type": "code",
   "execution_count": 31,
   "id": "2fb3efef",
   "metadata": {},
   "outputs": [],
   "source": [
    "teacher_forcing_ratio = 0.5\n",
    "\n",
    "SOS_token = 0\n",
    "EOS_token = 1\n",
    "\n",
    "def train(input_tensor, target_tensor, encoder, decoder, encoder_optimizer, decoder_optimizer, criterion, max_length=MAX_LENGTH):\n",
    "    encoder_hidden = encoder.initHidden()\n",
    "\n",
    "    encoder_optimizer.zero_grad()\n",
    "    decoder_optimizer.zero_grad()\n",
    "\n",
    "    input_length = input_tensor.size(0)\n",
    "    target_length = target_tensor.size(0)\n",
    "\n",
    "    encoder_outputs = torch.zeros(max_length, encoder.hidden_size, device=device)\n",
    "\n",
    "    loss = 0\n",
    "\n",
    "    for ei in range(input_length):\n",
    "        encoder_output, encoder_hidden = encoder(\n",
    "            input_tensor[ei], encoder_hidden)\n",
    "        encoder_outputs[ei] = encoder_output[0, 0]\n",
    "\n",
    "    decoder_input = torch.tensor([[SOS_token]], device=device)\n",
    "\n",
    "    decoder_hidden = encoder_hidden\n",
    "\n",
    "    use_teacher_forcing = True if random.random() < teacher_forcing_ratio else False\n",
    "\n",
    "    if use_teacher_forcing:\n",
    "        # Teacher forcing: Feed the target as the next input\n",
    "        for di in range(target_length):\n",
    "            decoder_output, decoder_hidden, decoder_attention = decoder(\n",
    "                decoder_input, decoder_hidden, encoder_outputs)\n",
    "            loss += criterion(decoder_output, target_tensor[di])\n",
    "            decoder_input = target_tensor[di]  # Teacher forcing\n",
    "\n",
    "    else:\n",
    "        # Without teacher forcing: use its own predictions as the next input\n",
    "        for di in range(target_length):\n",
    "            decoder_output, decoder_hidden, decoder_attention = decoder(\n",
    "                decoder_input, decoder_hidden, encoder_outputs)\n",
    "            topv, topi = decoder_output.topk(1)\n",
    "            decoder_input = topi.squeeze().detach()  # detach from history as input\n",
    "\n",
    "            loss += criterion(decoder_output, target_tensor[di])\n",
    "            if decoder_input.item() == EOS_token:\n",
    "                break\n",
    "\n",
    "    loss.backward()\n",
    "\n",
    "    encoder_optimizer.step()\n",
    "    decoder_optimizer.step()\n",
    "\n",
    "    return loss.item() / target_length"
   ]
  },
  {
   "cell_type": "code",
   "execution_count": 84,
   "id": "30a6375c",
   "metadata": {},
   "outputs": [],
   "source": [
    "def test(input_tensor, target_tensor, encoder, decoder, criterion, max_length=MAX_LENGTH):\n",
    "    encoder_hidden = encoder.initHidden()\n",
    "\n",
    "    with torch.no_grad():\n",
    "\n",
    "        input_length = input_tensor.size(0)\n",
    "        target_length = target_tensor.size(0)\n",
    "\n",
    "        encoder_outputs = torch.zeros(max_length, encoder.hidden_size, device=device)\n",
    "\n",
    "        loss = 0\n",
    "\n",
    "        for ei in range(input_length):\n",
    "            encoder_output, encoder_hidden = encoder(\n",
    "                input_tensor[ei], encoder_hidden)\n",
    "            encoder_outputs[ei] = encoder_output[0, 0]\n",
    "\n",
    "        decoder_input = torch.tensor([[SOS_token]], device=device)\n",
    "\n",
    "        decoder_hidden = encoder_hidden\n",
    "\n",
    "        \n",
    "        # Without teacher forcing: use its own predictions as the next input\n",
    "        for di in range(target_length):\n",
    "            decoder_output, decoder_hidden, decoder_attention = decoder(\n",
    "                decoder_input, decoder_hidden, encoder_outputs)\n",
    "            topv, topi = decoder_output.topk(1)\n",
    "            decoder_input = topi.squeeze().detach()  # detach from history as input\n",
    "\n",
    "            loss += criterion(decoder_output, target_tensor[di])\n",
    "            if decoder_input.item() == EOS_token:\n",
    "                break\n",
    "\n",
    "    return loss.item() / target_length"
   ]
  },
  {
   "cell_type": "code",
   "execution_count": 91,
   "id": "0a5bd999",
   "metadata": {},
   "outputs": [],
   "source": [
    "def trainIters(encoder, decoder, n_iters, batch_size=100, learning_rate=0.01):\n",
    "    start = time.time()\n",
    "    train_loss = [] # per batch\n",
    "    test_loss = []\n",
    "    train_loss_batch = 0  # Reset every batch\n",
    "\n",
    "    encoder_optimizer = optim.SGD(encoder.parameters(), lr=learning_rate)\n",
    "    decoder_optimizer = optim.SGD(decoder.parameters(), lr=learning_rate)\n",
    "    training_pairs = [random.choice(train_vec) for i in range(n_iters)]\n",
    "    criterion = nn.NLLLoss()\n",
    "\n",
    "    for iter in range(1, n_iters + 1):\n",
    "        training_pair = training_pairs[iter - 1]\n",
    "        input_tensor = training_pair[0]\n",
    "        target_tensor = training_pair[1]\n",
    "\n",
    "        loss = train(input_tensor, target_tensor, encoder,\n",
    "                     decoder, encoder_optimizer, decoder_optimizer, criterion)\n",
    "        train_loss_batch += loss\n",
    "\n",
    "        if iter % batch_size == 0:\n",
    "            train_loss.append(train_loss_batch/batch_size)\n",
    "            train_loss_batch = 0\n",
    "            \n",
    "            # compute test loss\n",
    "            testing_pairs = [random.choice(test_vec) for i in range(batch_size)]\n",
    "            loss = 0\n",
    "            for p in testing_pairs:\n",
    "                loss += test(p[0], p[1], encoder,\n",
    "                             decoder, criterion)\n",
    "            test_loss.append(loss/batch_size)\n",
    "            \n",
    "\n",
    "    return train_loss, test_loss"
   ]
  },
  {
   "cell_type": "code",
   "execution_count": 46,
   "id": "9d99f36e",
   "metadata": {},
   "outputs": [],
   "source": [
    "\n",
    "import matplotlib.ticker as ticker\n",
    "import numpy as np"
   ]
  },
  {
   "cell_type": "code",
   "execution_count": 67,
   "id": "c4c8ff7e",
   "metadata": {},
   "outputs": [],
   "source": [
    "def evaluate(encoder, decoder, expression, max_length=MAX_LENGTH):\n",
    "    with torch.no_grad():\n",
    "        input_tensor = torch.tensor(lt.tokenize(expression)).reshape(-1,1)\n",
    "        input_length = input_tensor.size()[0]\n",
    "        encoder_hidden = encoder.initHidden()\n",
    "\n",
    "        encoder_outputs = torch.zeros(max_length, encoder.hidden_size, device=device)\n",
    "\n",
    "        for ei in range(input_length):\n",
    "            encoder_output, encoder_hidden = encoder(input_tensor[ei],\n",
    "                                                     encoder_hidden)\n",
    "            encoder_outputs[ei] += encoder_output[0, 0]\n",
    "\n",
    "        decoder_input = torch.tensor([[SOS_token]], device=device)  # SOS\n",
    "\n",
    "        decoder_hidden = encoder_hidden\n",
    "\n",
    "        decoded_words = []\n",
    "        decoder_attentions = torch.zeros(max_length, max_length)\n",
    "\n",
    "        for di in range(max_length):\n",
    "            decoder_output, decoder_hidden, decoder_attention = decoder(\n",
    "                decoder_input, decoder_hidden, encoder_outputs)\n",
    "            decoder_attentions[di] = decoder_attention.data\n",
    "            topv, topi = decoder_output.data.topk(1)\n",
    "            if topi.item() == EOS_token:\n",
    "                decoded_words.append('<EOS>')\n",
    "                break\n",
    "            else:\n",
    "                decoded_words.append(nv.index2word[topi.item()])\n",
    "\n",
    "            decoder_input = topi.squeeze().detach()\n",
    "\n",
    "        return decoded_words, decoder_attentions[:di + 1]"
   ]
  },
  {
   "cell_type": "code",
   "execution_count": 65,
   "id": "36ffd326",
   "metadata": {},
   "outputs": [],
   "source": [
    "def evaluateRandomly(encoder, decoder, n=10):\n",
    "    for i in range(n):\n",
    "        pair = random.choice(test_expression)\n",
    "        print('>', pair[0])\n",
    "        print('=', pair[1])\n",
    "        output_words, attentions = evaluate(encoder, decoder, pair[0])\n",
    "        output_sentence = ' '.join(output_words)\n",
    "        print('<', output_sentence)\n",
    "        print('')"
   ]
  },
  {
   "cell_type": "code",
   "execution_count": 92,
   "id": "26166fac",
   "metadata": {
    "scrolled": false
   },
   "outputs": [],
   "source": [
    "hidden_size = 64\n",
    "encoder1 = Encoder(lt.n_token, hidden_size).to(device)\n",
    "attn_decoder1 = AttnDecoder(hidden_size, nv.n_word, dropout_p=0.1).to(device)\n",
    "\n",
    "loss = trainIters(encoder1, attn_decoder1, 20000)"
   ]
  },
  {
   "cell_type": "code",
   "execution_count": 94,
   "id": "3d7ce9ed",
   "metadata": {},
   "outputs": [
    {
     "data": {
      "text/plain": [
       "Text(0.5, 1.0, 'Average loss versus training interation')"
      ]
     },
     "execution_count": 94,
     "metadata": {},
     "output_type": "execute_result"
    },
    {
     "data": {
      "image/png": "[encoded data removed]",
      "text/plain": [
       "<Figure size 576x360 with 1 Axes>"
      ]
     },
     "metadata": {
      "needs_background": "light"
     },
     "output_type": "display_data"
    }
   ],
   "source": [
    "# plot loss versus n batch\n",
    "plt.figure(figsize=(8,5))\n",
    "plt.plot(loss[0])\n",
    "plt.plot(loss[1])\n",
    "plt.xlabel('Iteration')\n",
    "plt.ylabel('loss')\n",
    "plt.legend(['train loss', 'test loss'])\n",
    "plt.title('Average loss versus training interation')"
   ]
  },
  {
   "cell_type": "code",
   "execution_count": 211,
   "id": "dbd1882d",
   "metadata": {},
   "outputs": [
    {
     "name": "stdout",
     "output_type": "stream",
     "text": [
      "> 5^0\n",
      "= five to the power of zero\n",
      "< SOS five to the power of zero <EOS>\n",
      "\n",
      "> 5 \\ge 9\n",
      "= five is greater or equal to nine\n",
      "< SOS five is greater or equal to nine <EOS>\n",
      "\n",
      "> 3 \\times 7\n",
      "= three multiplied by seven\n",
      "< SOS product of seven and seven <EOS>\n",
      "\n",
      "> z^z\n",
      "= z to the power of z\n",
      "< SOS z to the z <EOS>\n",
      "\n",
      "> \\int_{3}^{4} h(y) \\,dx\n",
      "= integral of h ( y ) from three to four with respect to x\n",
      "< SOS integral of h ( y ) from three to four with respect to x <EOS>\n",
      "\n",
      "> 6+9\n",
      "= add six to nine\n",
      "< SOS add six to nine <EOS>\n",
      "\n",
      "> \\int_{9}^{3} h(x) \\,dx\n",
      "= integral of h ( x ) from nine to three with respect to x\n",
      "< SOS integral of h ( x ) from nine to three with respect to x <EOS>\n",
      "\n",
      "> \\int_{1}^{2} h(y) \\,dz\n",
      "= integral of h ( y ) from one to two with respect to z\n",
      "< SOS integral of h ( y ) from one to two with respect to z <EOS>\n",
      "\n",
      "> \\int_{9}^{5} h(y) \\,dy\n",
      "= integral of h ( y ) from nine to five with respect to y\n",
      "< SOS integral of h ( y ) from nine to five with respect to y <EOS>\n",
      "\n",
      "> \\int_{3}^{9} h(z) \\,dz\n",
      "= integral of h ( z ) from three to nine with respect to z\n",
      "< SOS integral of h ( z ) from three to nine with respect to z <EOS>\n",
      "\n"
     ]
    }
   ],
   "source": [
    "evaluateRandomly(encoder1, attn_decoder1)"
   ]
  },
  {
   "cell_type": "code",
   "execution_count": 95,
   "id": "c06c4360",
   "metadata": {},
   "outputs": [
    {
     "name": "stdout",
     "output_type": "stream",
     "text": [
      "> y \\le 6\n",
      "= y is less or equal to six\n",
      "< SOS y is less or equal to six <EOS>\n",
      "\n",
      "> 1 \\times 2\n",
      "= one times two\n",
      "< SOS one times two <EOS>\n",
      "\n",
      "> 0 \\times 6\n",
      "= zero multiplied by six\n",
      "< SOS zero times six <EOS>\n",
      "\n",
      "> 3+y\n",
      "= add three to y\n",
      "< SOS add plus to y <EOS>\n",
      "\n",
      "> 0 \\times 7\n",
      "= zero times seven\n",
      "< SOS product of seven and seven <EOS>\n",
      "\n",
      "> \\int_{9}^{5} h(y) \\,dy\n",
      "= integral of h ( y ) from nine to five with respect to y\n",
      "< SOS integral of h ( y ) from nine to five with respect to y <EOS>\n",
      "\n",
      "> y-2\n",
      "= y minus two\n",
      "< SOS subtract two from <EOS>\n",
      "\n",
      "> 9^6\n",
      "= nine to the six\n",
      "< SOS nine to the power of six <EOS>\n",
      "\n",
      "> \\frac{3}{3}\n",
      "= three over three\n",
      "< SOS three divided three <EOS>\n",
      "\n",
      "> 6-7\n",
      "= six minus seven\n",
      "< SOS subtract seven from six <EOS>\n",
      "\n"
     ]
    }
   ],
   "source": [
    "evaluateRandomly(encoder1, attn_decoder1)"
   ]
  },
  {
   "cell_type": "code",
   "execution_count": 210,
   "id": "d2202dcd",
   "metadata": {},
   "outputs": [
    {
     "name": "stdout",
     "output_type": "stream",
     "text": [
      "input = \\int_{3}^{9} h(x) \\,dx\n",
      "output = SOS integral of h ( x ) from three to nine with respect to x <EOS>\n"
     ]
    },
    {
     "name": "stderr",
     "output_type": "stream",
     "text": [
      "/var/folders/cf/nlvxpf6564s_1x5tcqcdgcjr0000gn/T/ipykernel_43152/2485757939.py:12: UserWarning: FixedFormatter should only be used together with FixedLocator\n",
      "  ax.set_xticklabels(['SOS']  + xticks[:-1] + ['EOS'], rotation=90)\n",
      "/var/folders/cf/nlvxpf6564s_1x5tcqcdgcjr0000gn/T/ipykernel_43152/2485757939.py:13: UserWarning: FixedFormatter should only be used together with FixedLocator\n",
      "  ax.set_yticklabels(['SOS'] + output_words[:-1] + ['EOS'])\n"
     ]
    },
    {
     "data": {
      "image/png": "[encoded data removed]",
      "text/plain": [
       "<Figure size 720x360 with 2 Axes>"
      ]
     },
     "metadata": {
      "needs_background": "light"
     },
     "output_type": "display_data"
    }
   ],
   "source": [
    "def showAttention(input_sentence, output_words, attentions):\n",
    "    # Set up figure with colorbar\n",
    "    fig = plt.figure(figsize = (10, 5))\n",
    "    ax = fig.add_subplot(111)\n",
    "    cax = ax.matshow(attentions.numpy(), cmap='bone')\n",
    "    fig.colorbar(cax)\n",
    "\n",
    "    # Set up axes\n",
    "    xticks = [lt.index2token[test_vec[-1][0][i].item()] for i in range(22)]\n",
    "    \n",
    "    \n",
    "    ax.set_xticklabels(['SOS']  + xticks[:-1] + ['EOS'], rotation=90)\n",
    "    ax.set_yticklabels(['SOS'] + output_words[:-1] + ['EOS'])\n",
    "\n",
    "    # Show label at every tick\n",
    "    ax.xaxis.set_major_locator(ticker.MultipleLocator(1))\n",
    "    ax.yaxis.set_major_locator(ticker.MultipleLocator(1))\n",
    "\n",
    "\n",
    "def evaluateAndShowAttention(input_sentence):\n",
    "    output_words, attentions = evaluate(\n",
    "        encoder1, attn_decoder1, input_sentence)\n",
    "    print('input =', input_sentence)\n",
    "    print('output =', ' '.join(output_words))\n",
    "    showAttention(input_sentence, output_words, attentions)\n",
    "\n",
    "\n",
    "evaluateAndShowAttention(test_expression[-1][0])"
   ]
  },
  {
   "cell_type": "code",
   "execution_count": 213,
   "id": "f3454edc",
   "metadata": {
    "scrolled": true
   },
   "outputs": [
    {
     "data": {
      "text/plain": [
       "<matplotlib.image.AxesImage at 0x7fa60312bf70>"
      ]
     },
     "execution_count": 213,
     "metadata": {},
     "output_type": "execute_result"
    },
    {
     "data": {
      "image/png": "[encoded data removed]",
      "text/plain": [
       "<Figure size 792x288 with 1 Axes>"
      ]
     },
     "metadata": {
      "needs_background": "light"
     },
     "output_type": "display_data"
    }
   ],
   "source": [
    "# evaluate on nested expression\n",
    "output_word1, attention1 = evaluate(encoder1, attn_decoder1, nested_expression[0][0])\n",
    "plt.matshow(attention1.numpy())"
   ]
  },
  {
   "cell_type": "code",
   "execution_count": 214,
   "id": "21f9a8c0",
   "metadata": {
    "scrolled": true
   },
   "outputs": [
    {
     "data": {
      "text/plain": [
       "<matplotlib.image.AxesImage at 0x7fa611047640>"
      ]
     },
     "execution_count": 214,
     "metadata": {},
     "output_type": "execute_result"
    },
    {
     "data": {
      "image/png": "[encoded data removed]",
      "text/plain": [
       "<Figure size 792x288 with 1 Axes>"
      ]
     },
     "metadata": {
      "needs_background": "light"
     },
     "output_type": "display_data"
    }
   ],
   "source": [
    "# evaluate on nested expression 2\n",
    "output_word2, attention2 = evaluate(encoder1, attn_decoder1, nested_expression[1][0])\n",
    "plt.matshow(attention2.numpy())"
   ]
  },
  {
   "cell_type": "code",
   "execution_count": 215,
   "id": "ce432020",
   "metadata": {},
   "outputs": [
    {
     "data": {
      "text/plain": [
       "['SOS', 'x', 'is', 'not', 'equal', 'to', 'two', '<EOS>']"
      ]
     },
     "execution_count": 215,
     "metadata": {},
     "output_type": "execute_result"
    }
   ],
   "source": [
    "output_word1"
   ]
  },
  {
   "cell_type": "code",
   "execution_count": 216,
   "id": "6d7032ef",
   "metadata": {
    "scrolled": true
   },
   "outputs": [
    {
     "data": {
      "text/plain": [
       "['SOS', 'x', 'is', 'not', 'equal', 'to', 'one', '<EOS>']"
      ]
     },
     "execution_count": 216,
     "metadata": {},
     "output_type": "execute_result"
    }
   ],
   "source": [
    "output_word2"
   ]
  },
  {
   "cell_type": "code",
   "execution_count": 218,
   "id": "990f5c6d",
   "metadata": {},
   "outputs": [
    {
     "data": {
      "text/plain": [
       "('x to the two is less or equal to x plus five',\n",
       " 'x plus one over x is not equal to one')"
      ]
     },
     "execution_count": 218,
     "metadata": {},
     "output_type": "execute_result"
    }
   ],
   "source": [
    "nested_expression[0][1], nested_expression[1][1]"
   ]
  }
 ],
 "metadata": {
  "kernelspec": {
   "display_name": "Python 3 (ipykernel)",
   "language": "python",
   "name": "python3"
  },
  "language_info": {
   "codemirror_mode": {
    "name": "ipython",
    "version": 3
   },
   "file_extension": ".py",
   "mimetype": "text/x-python",
   "name": "python",
   "nbconvert_exporter": "python",
   "pygments_lexer": "ipython3",
   "version": "3.9.0"
  }
 },
 "nbformat": 4,
 "nbformat_minor": 5
}
